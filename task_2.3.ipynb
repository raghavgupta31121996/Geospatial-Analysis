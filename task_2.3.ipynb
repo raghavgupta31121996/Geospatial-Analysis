{
 "cells": [
  {
   "cell_type": "markdown",
   "metadata": {},
   "source": [
    "St20183508\n",
    "\n",
    "# Geospatial Analysis\n",
    "\n",
    "## Task 2.3"
   ]
  },
  {
   "cell_type": "code",
   "execution_count": 1,
   "metadata": {},
   "outputs": [],
   "source": [
    "import pandas as pd\n",
    "import matplotlib.pyplot as plt \n",
    "import seaborn as sns"
   ]
  },
  {
   "cell_type": "code",
   "execution_count": 2,
   "metadata": {},
   "outputs": [],
   "source": [
    "import tweepy as tw\n",
    "import nltk\n",
    "from nltk.corpus import stopwords\n",
    "import re\n",
    "import networkx\n",
    "from textblob import TextBlob"
   ]
  },
  {
   "cell_type": "code",
   "execution_count": 3,
   "metadata": {},
   "outputs": [],
   "source": [
    "sns.set(font_scale=1.5)\n",
    "sns.set_style(\"whitegrid\")"
   ]
  },
  {
   "cell_type": "code",
   "execution_count": 4,
   "metadata": {},
   "outputs": [],
   "source": [
    "API_key= 'UMyukbXtQPw7Jt7ATKEfkgjZ1'\n",
    "API_secret= 'N808rS7eCxni438u8E06q1w6xGKnm2WNjSEuZM6Sdz8SzLnxW2'\n",
    "access_token= '1323994928960180224-VlJ3Q9jBB14wmPpeUea32y8tGfLbBv'\n",
    "access_token_secret= 'VMXkUm61mEe3SmHPg3pLx36OHVgaQXYysEbXvhqauesSR'"
   ]
  },
  {
   "cell_type": "code",
   "execution_count": 5,
   "metadata": {},
   "outputs": [],
   "source": [
    "auth = tw.OAuthHandler(API_key, API_secret)\n",
    "auth.set_access_token(access_token, access_token_secret)\n",
    "api = tw.API(auth, wait_on_rate_limit=True)"
   ]
  },
  {
   "cell_type": "code",
   "execution_count": 6,
   "metadata": {},
   "outputs": [],
   "source": [
    "# Cleaning Tweets Function\n",
    "# Removing URL from tweets\n",
    "\n",
    "def remove_url(txt):\n",
    "    return \" \".join(re.sub(\"([^0-9A-Za-z \\t])|(\\w+:\\/\\/\\S+)\", \"\", txt).split())"
   ]
  },
  {
   "cell_type": "code",
   "execution_count": 7,
   "metadata": {},
   "outputs": [],
   "source": [
    "search_term = \"#CovidSecondWave\"\n",
    "\n",
    "\n",
    "tweets = tw.Cursor(api.search,\n",
    "                   q=search_term,\n",
    "                   lang=\"en\",\n",
    "                   since='2021-01-01').items(500)"
   ]
  },
  {
   "cell_type": "code",
   "execution_count": 8,
   "metadata": {},
   "outputs": [
    {
     "data": {
      "text/html": [
       "<div>\n",
       "<style scoped>\n",
       "    .dataframe tbody tr th:only-of-type {\n",
       "        vertical-align: middle;\n",
       "    }\n",
       "\n",
       "    .dataframe tbody tr th {\n",
       "        vertical-align: top;\n",
       "    }\n",
       "\n",
       "    .dataframe thead th {\n",
       "        text-align: right;\n",
       "    }\n",
       "</style>\n",
       "<table border=\"1\" class=\"dataframe\">\n",
       "  <thead>\n",
       "    <tr style=\"text-align: right;\">\n",
       "      <th></th>\n",
       "      <th>polarity</th>\n",
       "      <th>tweet</th>\n",
       "    </tr>\n",
       "  </thead>\n",
       "  <tbody>\n",
       "    <tr>\n",
       "      <th>0</th>\n",
       "      <td>0.35</td>\n",
       "      <td>RT Shilpa1308 Donning a full PPE kit Tamil Nad...</td>\n",
       "    </tr>\n",
       "    <tr>\n",
       "      <th>1</th>\n",
       "      <td>0.35</td>\n",
       "      <td>RT Shilpa1308 Donning a full PPE kit Tamil Nad...</td>\n",
       "    </tr>\n",
       "    <tr>\n",
       "      <th>2</th>\n",
       "      <td>0.00</td>\n",
       "      <td>RT KettavanOffcl Please guys Say Some precauti...</td>\n",
       "    </tr>\n",
       "    <tr>\n",
       "      <th>3</th>\n",
       "      <td>0.00</td>\n",
       "      <td>Telangana lockdown for another 10 days and dai...</td>\n",
       "    </tr>\n",
       "    <tr>\n",
       "      <th>4</th>\n",
       "      <td>0.20</td>\n",
       "      <td>Salute you Sir HindiJournalismDay2021 Its grat...</td>\n",
       "    </tr>\n",
       "  </tbody>\n",
       "</table>\n",
       "</div>"
      ],
      "text/plain": [
       "   polarity                                              tweet\n",
       "0      0.35  RT Shilpa1308 Donning a full PPE kit Tamil Nad...\n",
       "1      0.35  RT Shilpa1308 Donning a full PPE kit Tamil Nad...\n",
       "2      0.00  RT KettavanOffcl Please guys Say Some precauti...\n",
       "3      0.00  Telangana lockdown for another 10 days and dai...\n",
       "4      0.20  Salute you Sir HindiJournalismDay2021 Its grat..."
      ]
     },
     "execution_count": 8,
     "metadata": {},
     "output_type": "execute_result"
    }
   ],
   "source": [
    "tweets_no_urls = [remove_url(tweet.text) for tweet in tweets]\n",
    "\n",
    "sentiment_objects = [TextBlob(tweet) for tweet in tweets_no_urls]\n",
    "\n",
    "\n",
    "sentiment_values_P = [[tweet.sentiment.polarity, str(tweet)] for tweet in sentiment_objects]\n",
    "sentiment_values_P[0]\n",
    "\n",
    "sentiment_values_S = [[tweet.sentiment.subjectivity, str(tweet)] for tweet in sentiment_objects]\n",
    "sentiment_values_S[1]\n",
    "\n",
    "sentiment_df_P = pd.DataFrame(sentiment_values_P, columns=[\"polarity\", \"tweet\"])\n",
    "\n",
    "sentiment_df_P.head()"
   ]
  },
  {
   "cell_type": "code",
   "execution_count": 9,
   "metadata": {},
   "outputs": [
    {
     "data": {
      "text/plain": [
       "(500, 2)"
      ]
     },
     "execution_count": 9,
     "metadata": {},
     "output_type": "execute_result"
    }
   ],
   "source": [
    "sentiment_df_P.shape"
   ]
  },
  {
   "cell_type": "code",
   "execution_count": 10,
   "metadata": {},
   "outputs": [
    {
     "data": {
      "text/html": [
       "<div>\n",
       "<style scoped>\n",
       "    .dataframe tbody tr th:only-of-type {\n",
       "        vertical-align: middle;\n",
       "    }\n",
       "\n",
       "    .dataframe tbody tr th {\n",
       "        vertical-align: top;\n",
       "    }\n",
       "\n",
       "    .dataframe thead th {\n",
       "        text-align: right;\n",
       "    }\n",
       "</style>\n",
       "<table border=\"1\" class=\"dataframe\">\n",
       "  <thead>\n",
       "    <tr style=\"text-align: right;\">\n",
       "      <th></th>\n",
       "      <th>subjectivity</th>\n",
       "      <th>tweet</th>\n",
       "    </tr>\n",
       "  </thead>\n",
       "  <tbody>\n",
       "    <tr>\n",
       "      <th>0</th>\n",
       "      <td>0.55</td>\n",
       "      <td>RT Shilpa1308 Donning a full PPE kit Tamil Nad...</td>\n",
       "    </tr>\n",
       "    <tr>\n",
       "      <th>1</th>\n",
       "      <td>0.55</td>\n",
       "      <td>RT Shilpa1308 Donning a full PPE kit Tamil Nad...</td>\n",
       "    </tr>\n",
       "    <tr>\n",
       "      <th>2</th>\n",
       "      <td>0.00</td>\n",
       "      <td>RT KettavanOffcl Please guys Say Some precauti...</td>\n",
       "    </tr>\n",
       "    <tr>\n",
       "      <th>3</th>\n",
       "      <td>0.00</td>\n",
       "      <td>Telangana lockdown for another 10 days and dai...</td>\n",
       "    </tr>\n",
       "    <tr>\n",
       "      <th>4</th>\n",
       "      <td>0.10</td>\n",
       "      <td>Salute you Sir HindiJournalismDay2021 Its grat...</td>\n",
       "    </tr>\n",
       "  </tbody>\n",
       "</table>\n",
       "</div>"
      ],
      "text/plain": [
       "   subjectivity                                              tweet\n",
       "0          0.55  RT Shilpa1308 Donning a full PPE kit Tamil Nad...\n",
       "1          0.55  RT Shilpa1308 Donning a full PPE kit Tamil Nad...\n",
       "2          0.00  RT KettavanOffcl Please guys Say Some precauti...\n",
       "3          0.00  Telangana lockdown for another 10 days and dai...\n",
       "4          0.10  Salute you Sir HindiJournalismDay2021 Its grat..."
      ]
     },
     "execution_count": 10,
     "metadata": {},
     "output_type": "execute_result"
    }
   ],
   "source": [
    "sentiment_df_S = pd.DataFrame(sentiment_values_S, columns=[\"subjectivity\", \"tweet\"])\n",
    "sentiment_df_S.head()"
   ]
  },
  {
   "cell_type": "code",
   "execution_count": 11,
   "metadata": {},
   "outputs": [
    {
     "data": {
      "text/plain": [
       "(500, 2)"
      ]
     },
     "execution_count": 11,
     "metadata": {},
     "output_type": "execute_result"
    }
   ],
   "source": [
    "sentiment_df_S.shape"
   ]
  },
  {
   "cell_type": "code",
   "execution_count": 12,
   "metadata": {},
   "outputs": [
    {
     "data": {
      "image/png": "[encoded data removed]",
      "text/plain": [
       "<Figure size 720x720 with 1 Axes>"
      ]
     },
     "metadata": {},
     "output_type": "display_data"
    }
   ],
   "source": [
    "fig, ax = plt.subplots(figsize=(10, 10))\n",
    "\n",
    "sentiment_df_P.hist(bins=[-1,-0.5, -0.25, 0.25, 0.5, 0.75, 1],\n",
    "             ax=ax,\n",
    "             color=\"blue\")\n",
    "\n",
    "plt.title(\"Sentiments from Tweets on Covid Second Wave\")\n",
    "plt.xlabel(\"Polarity\")\n",
    "plt.ylabel(\"Number of Tweets\")\n",
    "plt.show()"
   ]
  },
  {
   "cell_type": "markdown",
   "metadata": {},
   "source": [
    "The above histogram depicts the polarity values of 500 tweets on #CovidSecondWave. It can be infered that majority \n",
    "\n",
    "of tweets had neutral statements as its text. Other remaining tweets had more positive statements as compared to \n",
    "\n",
    "negative statements. This shows that most of the people are unsure and are waiting patiently to analyse the effects \n",
    "\n",
    "of the second wave of this pandemic to make better decisions regarding future covid vaccinations. Therefore, it can \n",
    "\n",
    "be seen that people have mixed opinions about covid second wave as some people are going through difficult \n",
    "\n",
    "situations, making negative statements and other are trying to help them by spreading positivity so that everyone \n",
    "\n",
    "can patiently tackle the second covid wave as a team.   "
   ]
  },
  {
   "cell_type": "code",
   "execution_count": 13,
   "metadata": {},
   "outputs": [
    {
     "data": {
      "image/png": "[encoded data removed]",
      "text/plain": [
       "<Figure size 720x720 with 1 Axes>"
      ]
     },
     "metadata": {},
     "output_type": "display_data"
    }
   ],
   "source": [
    "fig, ax = plt.subplots(figsize=(10, 10))\n",
    "\n",
    "sentiment_df_S.hist(bins=[0, 0.25, 0.5, 0.75, 1],\n",
    "             ax=ax,\n",
    "             color= \"green\")\n",
    "\n",
    "plt.title(\"Sentiments from Tweets on Covid Second Wave\")\n",
    "plt.xlabel(\"Subjectivity\")\n",
    "plt.ylabel(\"Number of Tweets\")\n",
    "plt.show()"
   ]
  },
  {
   "cell_type": "markdown",
   "metadata": {},
   "source": [
    "The above histogram presents the subjectivity of the same 500 tweets on #CovidSecondWave. The graph shows that \n",
    "\n",
    "majority of the tweets states positive sentiments or opinions of the people. This means that the people are sharing \n",
    "\n",
    "more personal information and experiences rather than mentioning facts. This also shows that other remaining tweets have \n",
    "\n",
    "more neutral sentiments. It can infered that people are more optimistic as they might belive \n",
    "\n",
    "in future covid vaccinations can improve the current situation.  "
   ]
  },
  {
   "cell_type": "markdown",
   "metadata": {},
   "source": [
    "## Recommendations for Covid second wave\n",
    "\n",
    "1) Continue to practice COVID-19 precautions, such as physical distancing, hand-washing and mask-wearing.\n",
    "\n",
    "2) Stay in touch with local health authorities, who can provide information if COVID-19 cases begin to increase in the city or town.\n",
    "\n",
    "3) Make sure your household maintains two weeks’ worth of food, prescription medicines and supplies.\n",
    "\n",
    "4) Work with your doctor to ensure that everyone in your household, especially children, is up to date on vaccines."
   ]
  }
 ],
 "metadata": {
  "kernelspec": {
   "display_name": "Python 3",
   "language": "python",
   "name": "python3"
  },
  "language_info": {
   "codemirror_mode": {
    "name": "ipython",
    "version": 3
   },
   "file_extension": ".py",
   "mimetype": "text/x-python",
   "name": "python",
   "nbconvert_exporter": "python",
   "pygments_lexer": "ipython3",
   "version": "3.8.5"
  }
 },
 "nbformat": 4,
 "nbformat_minor": 4
}
